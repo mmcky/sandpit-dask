{
 "cells": [
  {
   "cell_type": "code",
   "execution_count": 1,
   "metadata": {
    "collapsed": false
   },
   "outputs": [],
   "source": [
    "import time\n",
    "import random\n",
    "from dask import delayed\n",
    "import numpy as np\n",
    "import matplotlib.pyplot as plt\n",
    "import numba as nb\n",
    "import pandas as pd"
   ]
  },
  {
   "cell_type": "code",
   "execution_count": 2,
   "metadata": {
    "collapsed": false
   },
   "outputs": [
    {
     "data": {
      "text/plain": [
       "<Client: scheduler='tcp://127.0.0.1:35634' processes=8 cores=8>"
      ]
     },
     "execution_count": 2,
     "metadata": {},
     "output_type": "execute_result"
    }
   ],
   "source": [
    "from distributed import Client\n",
    "client = Client()\n",
    "client"
   ]
  },
  {
   "cell_type": "code",
   "execution_count": 3,
   "metadata": {
    "collapsed": false
   },
   "outputs": [],
   "source": [
    "def gen_matrix(x):\n",
    "    return np.random.rand(x,x)\n",
    "\n",
    "def mult_py(A, B):\n",
    "    m, n = A.shape\n",
    "    p = B.shape[1]\n",
    "    \n",
    "    C = np.zeros((m,p))\n",
    "\n",
    "    for i in range(0,m):\n",
    "        for j in range(0,p):\n",
    "            for k in range(0,n):\n",
    "                C[i,j] += A[i,k]*B[k,j] \n",
    "    return C\n",
    "mult_nb = nb.jit(nb.float64[:,:](nb.float64[:,:], nb.float64[:,:]), nopython = True)(mult_py)\n",
    "\n",
    "def mult_np(x, y):\n",
    "    return np.dot(x,y)\n",
    "\n",
    "def timer(func, a, b):\n",
    "    start = time.time()\n",
    "    result = func(a, b)\n",
    "    end = time.time()\n",
    "    return end-start\n",
    "        \n",
    "dimension = range(1000,5000,1000)\n",
    "\n",
    "output = []\n",
    "for x in dimension:\n",
    "    a = delayed(gen_matrix)(x)\n",
    "    b = delayed(gen_matrix)(x)\n",
    "    times = []\n",
    "    for i in range(0,10,1):\n",
    "        times.append(delayed(timer)(mult_np, a, b))\n",
    "    avg_time = delayed(np.mean)(times)\n",
    "    output.append((x, avg_time))\n",
    "\n",
    "fig_data = delayed(sorted)(output)\n"
   ]
  },
  {
   "cell_type": "code",
   "execution_count": 4,
   "metadata": {
    "collapsed": false
   },
   "outputs": [],
   "source": [
    "# fig_data.visualize()"
   ]
  },
  {
   "cell_type": "code",
   "execution_count": 5,
   "metadata": {
    "collapsed": false
   },
   "outputs": [],
   "source": [
    "fig_data = fig_data.compute()"
   ]
  },
  {
   "cell_type": "code",
   "execution_count": 161,
   "metadata": {
    "collapsed": false
   },
   "outputs": [],
   "source": [
    "index = []\n",
    "dataset = []\n",
    "for idx, data in fig_data:\n",
    "    index.append(idx)\n",
    "    dataset.append(data)\n",
    "fig_data = pd.DataFrame(dataset, index=index)"
   ]
  },
  {
   "cell_type": "code",
   "execution_count": 162,
   "metadata": {
    "collapsed": false
   },
   "outputs": [
    {
     "data": {
      "text/plain": [
       "<matplotlib.axes._subplots.AxesSubplot at 0x7fc5ded416a0>"
      ]
     },
     "execution_count": 162,
     "metadata": {},
     "output_type": "execute_result"
    },
    {
     "data": {
      "image/png": "[encoded data removed]",
      "text/plain": [
       "<matplotlib.figure.Figure at 0x7fc5df09c748>"
      ]
     },
     "metadata": {},
     "output_type": "display_data"
    }
   ],
   "source": [
    "%matplotlib inline\n",
    "fig_data.plot()"
   ]
  },
  {
   "cell_type": "code",
   "execution_count": null,
   "metadata": {
    "collapsed": false
   },
   "outputs": [],
   "source": []
  },
  {
   "cell_type": "code",
   "execution_count": 169,
   "metadata": {
    "collapsed": false
   },
   "outputs": [
    {
     "data": {
      "text/plain": [
       "'gen_matrix'"
      ]
     },
     "execution_count": 169,
     "metadata": {},
     "output_type": "execute_result"
    }
   ],
   "source": []
  },
  {
   "cell_type": "code",
   "execution_count": null,
   "metadata": {
    "collapsed": true
   },
   "outputs": [],
   "source": []
  }
 ],
 "metadata": {
  "kernelspec": {
   "display_name": "Python 3",
   "language": "python",
   "name": "python3"
  },
  "language_info": {
   "codemirror_mode": {
    "name": "ipython",
    "version": 3
   },
   "file_extension": ".py",
   "mimetype": "text/x-python",
   "name": "python",
   "nbconvert_exporter": "python",
   "pygments_lexer": "ipython3",
   "version": "3.6.0"
  }
 },
 "nbformat": 4,
 "nbformat_minor": 2
}
