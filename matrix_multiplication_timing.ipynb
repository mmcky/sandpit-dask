{
 "cells": [
  {
   "cell_type": "code",
   "execution_count": 9,
   "metadata": {
    "collapsed": false
   },
   "outputs": [],
   "source": [
    "import numpy as np\n",
    "import numba as nb"
   ]
  },
  {
   "cell_type": "code",
   "execution_count": 10,
   "metadata": {
    "collapsed": true
   },
   "outputs": [],
   "source": [
    "def dot_py(A,B):\n",
    "    m, n = A.shape\n",
    "    p = B.shape[1]\n",
    "    \n",
    "    C = np.zeros((m,p))\n",
    "\n",
    "    for i in range(0,m):\n",
    "        for j in range(0,p):\n",
    "            for k in range(0,n):\n",
    "                C[i,j] += A[i,k]*B[k,j] \n",
    "    return C"
   ]
  },
  {
   "cell_type": "code",
   "execution_count": 13,
   "metadata": {
    "collapsed": true
   },
   "outputs": [],
   "source": [
    "def dot_np(A,B):\n",
    "    C = np.dot(A,B)\n",
    "    return C"
   ]
  },
  {
   "cell_type": "code",
   "execution_count": 12,
   "metadata": {
    "collapsed": false
   },
   "outputs": [],
   "source": [
    "dot_nb = nb.jit(nb.float64[:,:](nb.float64[:,:], nb.float64[:,:]), nopython = True)(dot_py)"
   ]
  },
  {
   "cell_type": "code",
   "execution_count": 28,
   "metadata": {
    "collapsed": true
   },
   "outputs": [],
   "source": [
    "#-Construct Matrices-#\n",
    "a = np.random.rand(1000,1000)\n",
    "b = np.random.rand(1000,1000)"
   ]
  },
  {
   "cell_type": "code",
   "execution_count": 58,
   "metadata": {
    "collapsed": false
   },
   "outputs": [],
   "source": [
    "DIM = np.arange(2,1002+1,10).astype(int)"
   ]
  },
  {
   "cell_type": "code",
   "execution_count": 59,
   "metadata": {
    "collapsed": false
   },
   "outputs": [
    {
     "data": {
      "text/plain": [
       "array([   2,   12,   22,   32,   42,   52,   62,   72,   82,   92,  102,\n",
       "        112,  122,  132,  142,  152,  162,  172,  182,  192,  202,  212,\n",
       "        222,  232,  242,  252,  262,  272,  282,  292,  302,  312,  322,\n",
       "        332,  342,  352,  362,  372,  382,  392,  402,  412,  422,  432,\n",
       "        442,  452,  462,  472,  482,  492,  502,  512,  522,  532,  542,\n",
       "        552,  562,  572,  582,  592,  602,  612,  622,  632,  642,  652,\n",
       "        662,  672,  682,  692,  702,  712,  722,  732,  742,  752,  762,\n",
       "        772,  782,  792,  802,  812,  822,  832,  842,  852,  862,  872,\n",
       "        882,  892,  902,  912,  922,  932,  942,  952,  962,  972,  982,\n",
       "        992, 1002])"
      ]
     },
     "execution_count": 59,
     "metadata": {},
     "output_type": "execute_result"
    }
   ],
   "source": [
    "DIM"
   ]
  },
  {
   "cell_type": "code",
   "execution_count": null,
   "metadata": {
    "collapsed": false
   },
   "outputs": [],
   "source": [
    "t_python, t_numpy, t_numba = [], [], []\n",
    "for dim in DIM:\n",
    "    #-Construct Matrices-#\n",
    "    a = np.random.rand(dim,dim)\n",
    "    b = np.random.rand(dim,dim)\n",
    "    #-Time-#\n",
    "    python = %timeit -oq dot_py(a,b) \n",
    "    numpy = %timeit -oq dot_np(a,b)\n",
    "    numba = %timeit -oq dot_nb(a,b)\n",
    "    #-Append Best Time-#\n",
    "    t_python.append(python.best)\n",
    "    t_numpy.append(numpy.best)\n",
    "    t_numba.append(numba.best)"
   ]
  },
  {
   "cell_type": "markdown",
   "metadata": {},
   "source": [
    "# Plot Times"
   ]
  },
  {
   "cell_type": "code",
   "execution_count": null,
   "metadata": {
    "collapsed": false
   },
   "outputs": [],
   "source": [
    "%matplotlib inline\n",
    "import matplotlib.pyplot as plt\n",
    "import seaborn; seaborn.set()"
   ]
  },
  {
   "cell_type": "code",
   "execution_count": null,
   "metadata": {
    "collapsed": false
   },
   "outputs": [],
   "source": [
    "plt.loglog(DIM, t_python, label='python')\n",
    "plt.loglog(DIM, t_numpy, label='numpy')\n",
    "plt.loglog(DIM, t_numba, label='numba')\n",
    "# plt.plot(Mrange, t_numba_fast, label='numba #2')\n",
    "plt.legend(loc='upper left')\n",
    "plt.xlabel('Number of Elements')\n",
    "plt.ylabel('Execution Time (s)');"
   ]
  },
  {
   "cell_type": "code",
   "execution_count": null,
   "metadata": {
    "collapsed": false
   },
   "outputs": [],
   "source": []
  }
 ],
 "metadata": {
  "kernelspec": {
   "display_name": "Python 3",
   "language": "python",
   "name": "python3"
  },
  "language_info": {
   "codemirror_mode": {
    "name": "ipython",
    "version": 3
   },
   "file_extension": ".py",
   "mimetype": "text/x-python",
   "name": "python",
   "nbconvert_exporter": "python",
   "pygments_lexer": "ipython3",
   "version": "3.6.0"
  }
 },
 "nbformat": 4,
 "nbformat_minor": 2
}
