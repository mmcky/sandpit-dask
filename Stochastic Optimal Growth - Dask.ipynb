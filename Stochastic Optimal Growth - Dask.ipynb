{
 "cells": [
  {
   "cell_type": "code",
   "execution_count": 1,
   "metadata": {
    "collapsed": false
   },
   "outputs": [],
   "source": [
    "import numpy as np\n",
    "from scipy.optimize import fminbound\n",
    "import matplotlib.pyplot as plt\n",
    "\n",
    "from optimalgrowth_loglinear import LogLinearOG"
   ]
  },
  {
   "cell_type": "markdown",
   "metadata": {},
   "source": [
    "# Solve over a Grid"
   ]
  },
  {
   "cell_type": "code",
   "execution_count": 2,
   "metadata": {
    "collapsed": false
   },
   "outputs": [],
   "source": [
    "#-LogLinear Optimal Growth Problem-#\n",
    "lg = LogLinearOG()\n",
    "# == Unpack parameters / functions for convenience == #\n",
    "alpha, beta, mu, s = lg.alpha, lg.beta, lg.mu, lg.s\n",
    "v_star = lg.v_star"
   ]
  },
  {
   "cell_type": "code",
   "execution_count": 3,
   "metadata": {
    "collapsed": false
   },
   "outputs": [],
   "source": [
    "grid_max = 4         # Largest grid point\n",
    "grid_size = 200      # Number of grid points\n",
    "shock_size = 250     # Number of shock draws in Monte Carlo integral\n",
    "\n",
    "grid = np.linspace(1e-5, grid_max, grid_size)\n",
    "\n",
    "#-Compute Required Info-#\n",
    "w = v_star(grid)\n",
    "u = np.log\n",
    "f = lambda k: k**alpha\n",
    "shocks = np.exp(mu + s * np.random.randn(shock_size))\n",
    "w_func = lambda x: np.interp(x, grid, w)\n",
    "Tw = np.empty_like(w)"
   ]
  },
  {
   "cell_type": "code",
   "execution_count": 4,
   "metadata": {
    "collapsed": false
   },
   "outputs": [
    {
     "name": "stdout",
     "output_type": "stream",
     "text": [
      "126 ms ± 721 µs per loop (mean ± std. dev. of 7 runs, 10 loops each)\n"
     ]
    }
   ],
   "source": [
    "%%timeit \n",
    "#-Iteration-#\n",
    "for i, y in enumerate(grid):\n",
    "    # == set Tw[i] = max_c { u(c) + beta E w(f(y  - c) z)} == #\n",
    "    def objective(c):\n",
    "        return - u(c) - beta * np.mean(w_func(f(y - c) * shocks))\n",
    "    c_star = fminbound(objective, 1e-10, y)\n",
    "    Tw[i] = - objective(c_star)"
   ]
  },
  {
   "cell_type": "code",
   "execution_count": 5,
   "metadata": {
    "collapsed": false
   },
   "outputs": [
    {
     "data": {
      "text/plain": [
       "-51.494684747586383"
      ]
     },
     "execution_count": 5,
     "metadata": {},
     "output_type": "execute_result"
    }
   ],
   "source": [
    "Tw[0]"
   ]
  },
  {
   "cell_type": "markdown",
   "metadata": {},
   "source": [
    "# Using Dask to Compute Grid"
   ]
  },
  {
   "cell_type": "code",
   "execution_count": 6,
   "metadata": {
    "collapsed": false
   },
   "outputs": [
    {
     "name": "stdout",
     "output_type": "stream",
     "text": [
      "<Client: scheduler='tcp://127.0.0.1:40272' processes=8 cores=8>\n"
     ]
    }
   ],
   "source": [
    "import dask\n",
    "from dask.distributed import Client\n",
    "client = Client()\n",
    "print(client)"
   ]
  },
  {
   "cell_type": "code",
   "execution_count": 7,
   "metadata": {
    "collapsed": true
   },
   "outputs": [],
   "source": [
    "def generate_objective(y):\n",
    "    return lambda c: - u(c) - beta * np.mean(w_func(f(y - c) * shocks))"
   ]
  },
  {
   "cell_type": "code",
   "execution_count": 8,
   "metadata": {
    "collapsed": false
   },
   "outputs": [],
   "source": [
    "#Delayed Computation using same parameters as above#\n",
    "Tw_dask_delayed = []\n",
    "#-Iteration-#\n",
    "for i, y in enumerate(grid):\n",
    "    objfunc = dask.delayed(generate_objective)(y)\n",
    "    c_star = dask.delayed(fminbound)(objfunc, 1e-10, y)\n",
    "    Tw_dask_delayed.append(-1 * dask.delayed(objfunc)(c_star))"
   ]
  },
  {
   "cell_type": "code",
   "execution_count": 9,
   "metadata": {
    "collapsed": false
   },
   "outputs": [
    {
     "name": "stdout",
     "output_type": "stream",
     "text": [
      "337 ms ± 7.14 ms per loop (mean ± std. dev. of 7 runs, 1 loop each)\n"
     ]
    }
   ],
   "source": [
    "%%timeit\n",
    "Tw_dask = np.array(dask.compute(*Tw_dask_delayed))"
   ]
  },
  {
   "cell_type": "code",
   "execution_count": 10,
   "metadata": {
    "collapsed": true
   },
   "outputs": [],
   "source": [
    "Tw_dask = np.array(dask.compute(*Tw_dask_delayed))"
   ]
  },
  {
   "cell_type": "code",
   "execution_count": 11,
   "metadata": {
    "collapsed": false
   },
   "outputs": [
    {
     "data": {
      "text/plain": [
       "-51.494684747586383"
      ]
     },
     "execution_count": 11,
     "metadata": {},
     "output_type": "execute_result"
    }
   ],
   "source": [
    "Tw_dask[0]"
   ]
  },
  {
   "cell_type": "code",
   "execution_count": 12,
   "metadata": {
    "collapsed": false
   },
   "outputs": [
    {
     "data": {
      "text/plain": [
       "-51.494684747586383"
      ]
     },
     "execution_count": 12,
     "metadata": {},
     "output_type": "execute_result"
    }
   ],
   "source": [
    "Tw[0]"
   ]
  },
  {
   "cell_type": "code",
   "execution_count": 13,
   "metadata": {
    "collapsed": false
   },
   "outputs": [
    {
     "data": {
      "text/plain": [
       "True"
      ]
     },
     "execution_count": 13,
     "metadata": {},
     "output_type": "execute_result"
    }
   ],
   "source": [
    "np.allclose(Tw, Tw_dask)"
   ]
  },
  {
   "cell_type": "markdown",
   "metadata": {},
   "source": [
    "While the **correct** data is computed this is much slower due to the interprocess overhead that dask introduces. \n",
    "\n",
    "Currently dask introduces around **100ms** of overhead for the scheduler. \n",
    "\n",
    "http://dask.pydata.org/en/latest/shared.html\n",
    "\n",
    "Dask is doing a lot of coordination work that is inefficient for this computation. We get better performance on a single core.\n"
   ]
  },
  {
   "cell_type": "code",
   "execution_count": null,
   "metadata": {
    "collapsed": true
   },
   "outputs": [],
   "source": []
  }
 ],
 "metadata": {
  "kernelspec": {
   "display_name": "Python 3",
   "language": "python",
   "name": "python3"
  },
  "language_info": {
   "codemirror_mode": {
    "name": "ipython",
    "version": 3
   },
   "file_extension": ".py",
   "mimetype": "text/x-python",
   "name": "python",
   "nbconvert_exporter": "python",
   "pygments_lexer": "ipython3",
   "version": "3.6.0"
  }
 },
 "nbformat": 4,
 "nbformat_minor": 2
}
